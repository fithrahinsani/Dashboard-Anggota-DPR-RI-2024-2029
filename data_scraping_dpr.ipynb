{
 "cells": [
  {
   "cell_type": "markdown",
   "id": "5ad94641-cec0-468e-8785-bdf80832b47a",
   "metadata": {},
   "source": [
    "# DATA SCRAPPING"
   ]
  },
  {
   "cell_type": "code",
   "execution_count": 3,
   "id": "83e98521-106b-4eec-93a5-057999ba054a",
   "metadata": {},
   "outputs": [
    {
     "name": "stdout",
     "output_type": "stream",
     "text": [
      "Index(['No. Anggota', 'Daerah pemilihan', 'Potret', 'Nama', 'Komisi', 'Fraksi',\n",
      "       'Fraksi.1', 'Perolehan Suara Sah', 'Catatan'],\n",
      "      dtype='object')\n"
     ]
    }
   ],
   "source": [
    "import pandas as pd\n",
    "\n",
    "df = pd.read_csv('anggota_dpr_2024-2029.csv')\n",
    "\n",
    "print(df.columns)"
   ]
  },
  {
   "cell_type": "markdown",
   "id": "dbe90d03-55d1-4452-8ba8-82e6701ee1b5",
   "metadata": {},
   "source": [
    "# HAPUS KOLOM Potret, Fraksi, & Perolehan Suara Sah"
   ]
  },
  {
   "cell_type": "code",
   "execution_count": 4,
   "id": "9506d158-d498-421d-ba5c-24658abcf82a",
   "metadata": {},
   "outputs": [
    {
     "name": "stdout",
     "output_type": "stream",
     "text": [
      "   No. Anggota Daerah pemilihan                               Nama  \\\n",
      "0            1           Aceh I            H. Irmawan S.Sos., M.M.   \n",
      "1          155           Aceh I        Jamaluddin Idham S.H., M.H.   \n",
      "2          264           Aceh I  Drs. H. T. Zulkarnaini Ampon Bang   \n",
      "3          366           Aceh I          H. Muslim Ayub S.H., M.M.   \n",
      "4          435           Aceh I                            Ghufran   \n",
      "\n",
      "        Komisi Fraksi.1 Catatan  \n",
      "0     Komisi V      PKB     NaN  \n",
      "1  Komisi XIII    PDI-P     NaN  \n",
      "2   Komisi VII   Golkar     NaN  \n",
      "3  Komisi XIII   NasDem     NaN  \n",
      "4    Komisi VI      PKS     NaN  \n"
     ]
    }
   ],
   "source": [
    "df = df.drop(columns=['Potret', 'Fraksi', 'Perolehan Suara Sah'])\n",
    "\n",
    "print(df.head())"
   ]
  },
  {
   "cell_type": "markdown",
   "id": "802af3f4-4290-40f3-8c5c-c5b18ad0ee3c",
   "metadata": {},
   "source": [
    "# GANTI NAMA KOLOM Fraksi.1 MENJADI Fraksi"
   ]
  },
  {
   "cell_type": "code",
   "execution_count": 5,
   "id": "6062fd07-3a97-4cd8-816a-6fcb5ff18397",
   "metadata": {},
   "outputs": [
    {
     "name": "stdout",
     "output_type": "stream",
     "text": [
      "   No. Anggota Daerah pemilihan                               Nama  \\\n",
      "0            1           Aceh I            H. Irmawan S.Sos., M.M.   \n",
      "1          155           Aceh I        Jamaluddin Idham S.H., M.H.   \n",
      "2          264           Aceh I  Drs. H. T. Zulkarnaini Ampon Bang   \n",
      "3          366           Aceh I          H. Muslim Ayub S.H., M.M.   \n",
      "4          435           Aceh I                            Ghufran   \n",
      "\n",
      "        Komisi  Fraksi Catatan  \n",
      "0     Komisi V     PKB     NaN  \n",
      "1  Komisi XIII   PDI-P     NaN  \n",
      "2   Komisi VII  Golkar     NaN  \n",
      "3  Komisi XIII  NasDem     NaN  \n",
      "4    Komisi VI     PKS     NaN  \n"
     ]
    }
   ],
   "source": [
    "df = df.rename(columns={'Fraksi.1': 'Fraksi'})\n",
    "\n",
    "print(df.head())"
   ]
  },
  {
   "cell_type": "markdown",
   "id": "dbfe73fc-e171-4660-bb13-341652743196",
   "metadata": {},
   "source": [
    "# Hapus nama anggota yang kolom Komisi-nya kosong. Karena itu nama-nama anggota DPR RI yang: mengundurkan diri, diangkat jadi menteri, meninggal dunia, dsb. Jadi nama anggota yang kolom Komisi-nya kosong itu sudah bukan anggota DPR RI lagi."
   ]
  },
  {
   "cell_type": "code",
   "execution_count": 6,
   "id": "8b30845a-53e4-436f-bf63-d9b1a1ef0017",
   "metadata": {},
   "outputs": [
    {
     "name": "stdout",
     "output_type": "stream",
     "text": [
      "   No. Anggota Daerah pemilihan                               Nama  \\\n",
      "0            1           Aceh I            H. Irmawan S.Sos., M.M.   \n",
      "1          155           Aceh I        Jamaluddin Idham S.H., M.H.   \n",
      "2          264           Aceh I  Drs. H. T. Zulkarnaini Ampon Bang   \n",
      "3          366           Aceh I          H. Muslim Ayub S.H., M.M.   \n",
      "4          435           Aceh I                            Ghufran   \n",
      "\n",
      "        Komisi  Fraksi Catatan  \n",
      "0     Komisi V     PKB     NaN  \n",
      "1  Komisi XIII   PDI-P     NaN  \n",
      "2   Komisi VII  Golkar     NaN  \n",
      "3  Komisi XIII  NasDem     NaN  \n",
      "4    Komisi VI     PKS     NaN  \n",
      "Jumlah baris setelah pembersihan: 579\n"
     ]
    }
   ],
   "source": [
    "# Hapus baris di mana kolom 'Komisi' kosong (NaN atau string kosong)\n",
    "df = df[df['Komisi'].notna()]  # menghapus NaN\n",
    "df = df[df['Komisi'].str.strip() != '']  # menghapus string kosong atau spasi\n",
    "\n",
    "# Cek hasilnya\n",
    "print(df.head())\n",
    "print(f\"Jumlah baris setelah pembersihan: {len(df)}\")"
   ]
  },
  {
   "cell_type": "markdown",
   "id": "0a8a4814-8173-47ac-84ec-8bffc03c9703",
   "metadata": {},
   "source": [
    "# Buat kolom jabatan. Ganti nama kolom Catatan menjadi Jabatan. \n",
    "\n",
    "# Kemudian, hapus semua value yang cuma ada keterangannya saja.  Contoh, hapus [Ket. 1] atau [Ket. 2] atau [Ket. 12]. Semua yang ada ket itu hapus saja.\n",
    "\n",
    "# Kemudian, semua value yang kosong di kolom Jabatan, diganti dengan tanda \"-\""
   ]
  },
  {
   "cell_type": "code",
   "execution_count": 7,
   "id": "20a23217-2113-4c17-9e85-18188f1bee5e",
   "metadata": {},
   "outputs": [
    {
     "name": "stdout",
     "output_type": "stream",
     "text": [
      "                                 Nama  \\\n",
      "0             H. Irmawan S.Sos., M.M.   \n",
      "1         Jamaluddin Idham S.H., M.H.   \n",
      "2   Drs. H. T. Zulkarnaini Ampon Bang   \n",
      "3           H. Muslim Ayub S.H., M.M.   \n",
      "4                             Ghufran   \n",
      "5               H. Nazaruddin Dek Gam   \n",
      "7            H. T. Ibrahim S.T., M.M.   \n",
      "8                      H. Ruslan Daud   \n",
      "9            Ir. H. T. A. Khalid M.M.   \n",
      "10                  H. Ilham Pangestu   \n",
      "\n",
      "                                         Jabatan  \n",
      "0                                              -  \n",
      "1                                              -  \n",
      "2                                              -  \n",
      "3                                              -  \n",
      "4                                              -  \n",
      "5         Ketua Mahkamah Kehormatan Dewan DPR RI  \n",
      "7                                    [Ket. 2][2]  \n",
      "8                                              -  \n",
      "9                                              -  \n",
      "10  Wakil Ketua Badan Urusan Rumah Tangga DPR RI  \n"
     ]
    }
   ],
   "source": [
    "df.rename(columns={'Catatan': 'Jabatan'}, inplace=True)\n",
    "\n",
    "import re\n",
    "\n",
    "df['Jabatan'] = df['Jabatan'].apply(lambda x: None if pd.notna(x) and re.fullmatch(r'\\[Ket\\. ?\\d+\\]', x.strip()) else x)\n",
    "\n",
    "df['Jabatan'] = df['Jabatan'].fillna('-')\n",
    "df['Jabatan'] = df['Jabatan'].apply(lambda x: '-' if str(x).strip() == '' else x)\n",
    "\n",
    "print(df[['Nama', 'Jabatan']].head(10))"
   ]
  },
  {
   "cell_type": "markdown",
   "id": "ff1231ce-d0f4-4007-98ea-d909afc93595",
   "metadata": {},
   "source": [
    "# Membuat tabel \"Provinsi\" agar dapat membuat chart map di Looker Studio"
   ]
  },
  {
   "cell_type": "code",
   "execution_count": 29,
   "id": "ba4d1c4e-155d-43a7-84ed-99b9cc7ab087",
   "metadata": {},
   "outputs": [
    {
     "data": {
      "text/html": [
       "<div>\n",
       "<style scoped>\n",
       "    .dataframe tbody tr th:only-of-type {\n",
       "        vertical-align: middle;\n",
       "    }\n",
       "\n",
       "    .dataframe tbody tr th {\n",
       "        vertical-align: top;\n",
       "    }\n",
       "\n",
       "    .dataframe thead th {\n",
       "        text-align: right;\n",
       "    }\n",
       "</style>\n",
       "<table border=\"1\" class=\"dataframe\">\n",
       "  <thead>\n",
       "    <tr style=\"text-align: right;\">\n",
       "      <th></th>\n",
       "      <th>No. Anggota</th>\n",
       "      <th>Daerah pemilihan</th>\n",
       "      <th>Nama</th>\n",
       "      <th>Komisi</th>\n",
       "      <th>Fraksi</th>\n",
       "      <th>Jabatan</th>\n",
       "      <th>Provinsi</th>\n",
       "      <th>Koalisi</th>\n",
       "    </tr>\n",
       "  </thead>\n",
       "  <tbody>\n",
       "    <tr>\n",
       "      <th>0</th>\n",
       "      <td>1</td>\n",
       "      <td>Aceh I</td>\n",
       "      <td>H. Irmawan S.Sos., M.M.</td>\n",
       "      <td>Komisi V</td>\n",
       "      <td>PKB</td>\n",
       "      <td>-</td>\n",
       "      <td>Aceh</td>\n",
       "      <td>Oposisi</td>\n",
       "    </tr>\n",
       "    <tr>\n",
       "      <th>1</th>\n",
       "      <td>155</td>\n",
       "      <td>Aceh I</td>\n",
       "      <td>Jamaluddin Idham S.H., M.H.</td>\n",
       "      <td>Komisi XIII</td>\n",
       "      <td>PDI-P</td>\n",
       "      <td>-</td>\n",
       "      <td>Aceh</td>\n",
       "      <td>Oposisi</td>\n",
       "    </tr>\n",
       "    <tr>\n",
       "      <th>2</th>\n",
       "      <td>264</td>\n",
       "      <td>Aceh I</td>\n",
       "      <td>Drs. H. T. Zulkarnaini Ampon Bang</td>\n",
       "      <td>Komisi VII</td>\n",
       "      <td>Golkar</td>\n",
       "      <td>-</td>\n",
       "      <td>Aceh</td>\n",
       "      <td>Koalisi Pemerintah</td>\n",
       "    </tr>\n",
       "    <tr>\n",
       "      <th>3</th>\n",
       "      <td>366</td>\n",
       "      <td>Aceh I</td>\n",
       "      <td>H. Muslim Ayub S.H., M.M.</td>\n",
       "      <td>Komisi XIII</td>\n",
       "      <td>NasDem</td>\n",
       "      <td>-</td>\n",
       "      <td>Aceh</td>\n",
       "      <td>Oposisi</td>\n",
       "    </tr>\n",
       "    <tr>\n",
       "      <th>4</th>\n",
       "      <td>435</td>\n",
       "      <td>Aceh I</td>\n",
       "      <td>Ghufran</td>\n",
       "      <td>Komisi VI</td>\n",
       "      <td>PKS</td>\n",
       "      <td>-</td>\n",
       "      <td>Aceh</td>\n",
       "      <td>Oposisi</td>\n",
       "    </tr>\n",
       "  </tbody>\n",
       "</table>\n",
       "</div>"
      ],
      "text/plain": [
       "   No. Anggota Daerah pemilihan                               Nama  \\\n",
       "0            1           Aceh I            H. Irmawan S.Sos., M.M.   \n",
       "1          155           Aceh I        Jamaluddin Idham S.H., M.H.   \n",
       "2          264           Aceh I  Drs. H. T. Zulkarnaini Ampon Bang   \n",
       "3          366           Aceh I          H. Muslim Ayub S.H., M.M.   \n",
       "4          435           Aceh I                            Ghufran   \n",
       "\n",
       "        Komisi  Fraksi Jabatan Provinsi             Koalisi  \n",
       "0     Komisi V     PKB       -     Aceh             Oposisi  \n",
       "1  Komisi XIII   PDI-P       -     Aceh             Oposisi  \n",
       "2   Komisi VII  Golkar       -     Aceh  Koalisi Pemerintah  \n",
       "3  Komisi XIII  NasDem       -     Aceh             Oposisi  \n",
       "4    Komisi VI     PKS       -     Aceh             Oposisi  "
      ]
     },
     "execution_count": 29,
     "metadata": {},
     "output_type": "execute_result"
    }
   ],
   "source": [
    "import re\n",
    "\n",
    "romawi = {'I', 'II', 'III', 'IV', 'V', 'VI', 'VII', 'VIII', 'IX', 'X', 'XI'}\n",
    "\n",
    "def ambil_provinsi(dapil):\n",
    "    parts = dapil.strip().split()\n",
    "    if parts[-1].upper() in romawi:\n",
    "        return ' '.join(parts[:-1])\n",
    "    else:\n",
    "        return dapil.strip()\n",
    "\n",
    "df['Provinsi'] = df['Daerah pemilihan'].apply(ambil_provinsi)\n",
    "\n",
    "df.head()"
   ]
  },
  {
   "cell_type": "markdown",
   "id": "8311060f-1872-4331-93c2-b6f8b1e129ce",
   "metadata": {},
   "source": [
    "# Memasukkan Kolom Oposisi ke dalam tabel\n",
    "\n",
    "# Kolom Koalisi adalah hasil kategorisasi fraksi anggota DPR RI berdasarkan posisi partai politik mereka dalam pemerintahan Presiden Prabowo Subianto dan Wakil Presiden Gibran Rakabuming Raka untuk periode 2024–2029.\n",
    "\n",
    "# Kategori ini hanya terdiri dari dua nilai:\n",
    "\n",
    "# -Koalisi Pemerintah: Fraksi partai politik yang tergabung dalam kabinet pemerintahan Prabowo-Gibran.\n",
    "\n",
    "# -Oposisi: Fraksi partai politik yang tidak bergabung dalam pemerintahan dan cenderung bersikap kritis terhadap kebijakan pemerintah.\n",
    "\n",
    "# *Catatan Konteks: Klasifikasi ini didasarkan pada konstelasi politik awal pemerintahan Prabowo-Gibran (hingga Mei 2025). Karena dinamika politik di Indonesia sangat cair, komposisi koalisi dapat berubah sepanjang periode pemerintahan. "
   ]
  },
  {
   "cell_type": "code",
   "execution_count": 30,
   "id": "fc891f09-12c8-45bb-98e5-1343b66535c5",
   "metadata": {},
   "outputs": [
    {
     "data": {
      "text/html": [
       "<div>\n",
       "<style scoped>\n",
       "    .dataframe tbody tr th:only-of-type {\n",
       "        vertical-align: middle;\n",
       "    }\n",
       "\n",
       "    .dataframe tbody tr th {\n",
       "        vertical-align: top;\n",
       "    }\n",
       "\n",
       "    .dataframe thead th {\n",
       "        text-align: right;\n",
       "    }\n",
       "</style>\n",
       "<table border=\"1\" class=\"dataframe\">\n",
       "  <thead>\n",
       "    <tr style=\"text-align: right;\">\n",
       "      <th></th>\n",
       "      <th>No. Anggota</th>\n",
       "      <th>Daerah pemilihan</th>\n",
       "      <th>Nama</th>\n",
       "      <th>Komisi</th>\n",
       "      <th>Fraksi</th>\n",
       "      <th>Jabatan</th>\n",
       "      <th>Provinsi</th>\n",
       "      <th>Koalisi</th>\n",
       "    </tr>\n",
       "  </thead>\n",
       "  <tbody>\n",
       "    <tr>\n",
       "      <th>0</th>\n",
       "      <td>1</td>\n",
       "      <td>Aceh I</td>\n",
       "      <td>H. Irmawan S.Sos., M.M.</td>\n",
       "      <td>Komisi V</td>\n",
       "      <td>PKB</td>\n",
       "      <td>-</td>\n",
       "      <td>Aceh</td>\n",
       "      <td>Oposisi</td>\n",
       "    </tr>\n",
       "    <tr>\n",
       "      <th>1</th>\n",
       "      <td>155</td>\n",
       "      <td>Aceh I</td>\n",
       "      <td>Jamaluddin Idham S.H., M.H.</td>\n",
       "      <td>Komisi XIII</td>\n",
       "      <td>PDI-P</td>\n",
       "      <td>-</td>\n",
       "      <td>Aceh</td>\n",
       "      <td>Oposisi</td>\n",
       "    </tr>\n",
       "    <tr>\n",
       "      <th>2</th>\n",
       "      <td>264</td>\n",
       "      <td>Aceh I</td>\n",
       "      <td>Drs. H. T. Zulkarnaini Ampon Bang</td>\n",
       "      <td>Komisi VII</td>\n",
       "      <td>Golkar</td>\n",
       "      <td>-</td>\n",
       "      <td>Aceh</td>\n",
       "      <td>Koalisi Pemerintah</td>\n",
       "    </tr>\n",
       "    <tr>\n",
       "      <th>3</th>\n",
       "      <td>366</td>\n",
       "      <td>Aceh I</td>\n",
       "      <td>H. Muslim Ayub S.H., M.M.</td>\n",
       "      <td>Komisi XIII</td>\n",
       "      <td>NasDem</td>\n",
       "      <td>-</td>\n",
       "      <td>Aceh</td>\n",
       "      <td>Oposisi</td>\n",
       "    </tr>\n",
       "    <tr>\n",
       "      <th>4</th>\n",
       "      <td>435</td>\n",
       "      <td>Aceh I</td>\n",
       "      <td>Ghufran</td>\n",
       "      <td>Komisi VI</td>\n",
       "      <td>PKS</td>\n",
       "      <td>-</td>\n",
       "      <td>Aceh</td>\n",
       "      <td>Oposisi</td>\n",
       "    </tr>\n",
       "  </tbody>\n",
       "</table>\n",
       "</div>"
      ],
      "text/plain": [
       "   No. Anggota Daerah pemilihan                               Nama  \\\n",
       "0            1           Aceh I            H. Irmawan S.Sos., M.M.   \n",
       "1          155           Aceh I        Jamaluddin Idham S.H., M.H.   \n",
       "2          264           Aceh I  Drs. H. T. Zulkarnaini Ampon Bang   \n",
       "3          366           Aceh I          H. Muslim Ayub S.H., M.M.   \n",
       "4          435           Aceh I                            Ghufran   \n",
       "\n",
       "        Komisi  Fraksi Jabatan Provinsi             Koalisi  \n",
       "0     Komisi V     PKB       -     Aceh             Oposisi  \n",
       "1  Komisi XIII   PDI-P       -     Aceh             Oposisi  \n",
       "2   Komisi VII  Golkar       -     Aceh  Koalisi Pemerintah  \n",
       "3  Komisi XIII  NasDem       -     Aceh             Oposisi  \n",
       "4    Komisi VI     PKS       -     Aceh             Oposisi  "
      ]
     },
     "execution_count": 30,
     "metadata": {},
     "output_type": "execute_result"
    }
   ],
   "source": [
    "koalisi_pemerintah = [\n",
    "    'Gerindra', 'Golkar', 'PAN', 'Demokrat',\n",
    "    'PSI', 'PBB', 'Gelora', 'Garuda', 'Prima'\n",
    "]\n",
    "\n",
    "def tentukan_koalisi(fraksi):\n",
    "    if fraksi in koalisi_pemerintah:\n",
    "        return 'Koalisi Pemerintah'\n",
    "    else:\n",
    "        return 'Oposisi'\n",
    "\n",
    "df['Koalisi'] = df['Fraksi'].apply(tentukan_koalisi)\n",
    "\n",
    "df.head()"
   ]
  },
  {
   "cell_type": "markdown",
   "id": "2ac0a2cb-624f-4613-842e-89fb8a7453bd",
   "metadata": {},
   "source": [
    "# Save Data"
   ]
  },
  {
   "cell_type": "code",
   "execution_count": 31,
   "id": "4df41d30-82f6-4e47-a1e7-039959f41ef1",
   "metadata": {},
   "outputs": [],
   "source": [
    "df.to_csv('data_scraping_1.csv', index=False)"
   ]
  },
  {
   "cell_type": "markdown",
   "id": "b4cf700e-f47e-4bba-a652-d5ece1fec77c",
   "metadata": {},
   "source": [
    "# Tahapan selanjutnya adalah melakukan cleaning data dari file tersebut secara manual menggunakan excel \n",
    "\n",
    "# Kemudian, akan ditambahkan kolom \"Jenis Kelamin\" yang juga akan dilakukan secara manual di excel"
   ]
  }
 ],
 "metadata": {
  "kernelspec": {
   "display_name": "Python (myenv)",
   "language": "python",
   "name": "myenv"
  },
  "language_info": {
   "codemirror_mode": {
    "name": "ipython",
    "version": 3
   },
   "file_extension": ".py",
   "mimetype": "text/x-python",
   "name": "python",
   "nbconvert_exporter": "python",
   "pygments_lexer": "ipython3",
   "version": "3.12.3"
  }
 },
 "nbformat": 4,
 "nbformat_minor": 5
}
